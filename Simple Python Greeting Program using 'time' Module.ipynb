{
 "cells": [
  {
   "cell_type": "code",
   "execution_count": 7,
   "id": "19ddf20f-d2ce-4c53-ba52-061a0ab5ef6d",
   "metadata": {},
   "outputs": [
    {
     "name": "stdout",
     "output_type": "stream",
     "text": [
      "Good Afternoon!\n",
      "The current time is: 02:36PM\n"
     ]
    }
   ],
   "source": [
    "import time\n",
    "current_time=time.localtime()\n",
    "hour=current_time.tm_hour\n",
    "if 5<=hour<12:\n",
    "    print(\"Good Morning!\")\n",
    "elif 12<=hour<17:\n",
    "    print(\"Good Afternoon!\")\n",
    "elif 17<=hour<21:\n",
    "    print(\"Good Evening!\")\n",
    "else:\n",
    "    print(\"Good Night!\")\n",
    "print(f\"The current time is: {time.strftime('%I:%M%p')}\")"
   ]
  },
  {
   "cell_type": "code",
   "execution_count": null,
   "id": "f5b77125-6b42-47f8-9729-20a8aa863e67",
   "metadata": {},
   "outputs": [],
   "source": []
  }
 ],
 "metadata": {
  "kernelspec": {
   "display_name": "Python [conda env:base] *",
   "language": "python",
   "name": "conda-base-py"
  },
  "language_info": {
   "codemirror_mode": {
    "name": "ipython",
    "version": 3
   },
   "file_extension": ".py",
   "mimetype": "text/x-python",
   "name": "python",
   "nbconvert_exporter": "python",
   "pygments_lexer": "ipython3",
   "version": "3.12.7"
  }
 },
 "nbformat": 4,
 "nbformat_minor": 5
}
