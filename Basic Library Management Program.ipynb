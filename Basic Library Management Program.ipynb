{
 "cells": [
  {
   "cell_type": "code",
   "execution_count": 4,
   "id": "9b8ea90d-f1cc-4a8e-af12-ed85e86334b4",
   "metadata": {},
   "outputs": [
    {
     "name": "stdout",
     "output_type": "stream",
     "text": [
      "Books in the Library:\n",
      "- Python Basics\n",
      "- Data Science Handbook\n",
      "- AI\n",
      "Total number of books: 3\n"
     ]
    }
   ],
   "source": [
    "class Library:\n",
    "    def __init__(self):\n",
    "        self.books=[]\n",
    "        self.num_books=0\n",
    "    def add_book(self, book_name):\n",
    "        self.books.append(book_name)\n",
    "        self.num_books+=1\n",
    "    def get_num_books(self):\n",
    "        return self.num_books\n",
    "    def show_books(self):\n",
    "        if self.num_books==0:\n",
    "            print(\"The Library has no books.\")\n",
    "        else:\n",
    "            print(\"Books in the Library:\")\n",
    "            for book in self.books:\n",
    "                print(f\"- {book}\")\n",
    "\n",
    "library=Library()\n",
    "library.add_book(\"Python Basics\")\n",
    "library.add_book(\"Data Science Handbook\")\n",
    "library.add_book(\"AI\")\n",
    "\n",
    "library.show_books()\n",
    "\n",
    "print(\"Total number of books:\",library.get_num_books())\n"
   ]
  },
  {
   "cell_type": "code",
   "execution_count": null,
   "id": "fce0f193-abca-4b0c-b579-d4ee964ffb6e",
   "metadata": {},
   "outputs": [],
   "source": []
  },
  {
   "cell_type": "code",
   "execution_count": null,
   "id": "be0de324-eaec-41cb-9516-59168e9cb0a5",
   "metadata": {},
   "outputs": [],
   "source": []
  }
 ],
 "metadata": {
  "kernelspec": {
   "display_name": "Python [conda env:base] *",
   "language": "python",
   "name": "conda-base-py"
  },
  "language_info": {
   "codemirror_mode": {
    "name": "ipython",
    "version": 3
   },
   "file_extension": ".py",
   "mimetype": "text/x-python",
   "name": "python",
   "nbconvert_exporter": "python",
   "pygments_lexer": "ipython3",
   "version": "3.12.7"
  }
 },
 "nbformat": 4,
 "nbformat_minor": 5
}
