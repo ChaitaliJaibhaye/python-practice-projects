{
 "cells": [
  {
   "cell_type": "code",
   "execution_count": 11,
   "id": "9a3ca8f2-7989-4cc1-8426-7d13f21cf31d",
   "metadata": {},
   "outputs": [
    {
     "name": "stdout",
     "output_type": "stream",
     "text": [
      "Welcome to Kaun Banega Crorepati!\n",
      "Answer the questions correctly to win money!\n",
      "\n",
      "\n",
      "Question 1:What is the capital of India?\n",
      "A.Mumbai\n",
      "B.Delhi\n",
      "C.Kolkata\n",
      "D.Chennai\n"
     ]
    },
    {
     "name": "stdin",
     "output_type": "stream",
     "text": [
      "Your answer (A/B/C/D): b\n"
     ]
    },
    {
     "name": "stdout",
     "output_type": "stream",
     "text": [
      "Correct answer!\n",
      "You won Rs.1000\n",
      "\n",
      "Question 2:Which planet is called the Red Planet?\n",
      "A.Earth\n",
      "B.Mars\n",
      "C.Venus\n",
      "D.Saturn\n"
     ]
    },
    {
     "name": "stdin",
     "output_type": "stream",
     "text": [
      "Your answer (A/B/C/D): b\n"
     ]
    },
    {
     "name": "stdout",
     "output_type": "stream",
     "text": [
      "Correct answer!\n",
      "You won Rs.5000\n",
      "\n",
      "Question 3:How many days are there in a week?\n",
      "A.5\n",
      "B.6\n",
      "C.7\n",
      "D.8\n"
     ]
    },
    {
     "name": "stdin",
     "output_type": "stream",
     "text": [
      "Your answer (A/B/C/D): c\n"
     ]
    },
    {
     "name": "stdout",
     "output_type": "stream",
     "text": [
      "Correct answer!\n",
      "You won Rs.10000\n",
      "\n",
      "You answered 3 questions correctly.\n",
      "Total prize money: Rs.16000\n",
      "Thanks for playing!\n"
     ]
    }
   ],
   "source": [
    "print(\"Welcome to Kaun Banega Crorepati!\")\n",
    "print(\"Answer the questions correctly to win money!\")\n",
    "print()\n",
    "questions=[\n",
    "    \"What is the capital of India?\",\n",
    "    \"Which planet is called the Red Planet?\",\n",
    "    \"How many days are there in a week?\"\n",
    "]\n",
    "options=[\n",
    "    [\"A.Mumbai\",\"B.Delhi\",\"C.Kolkata\",\"D.Chennai\"],\n",
    "    [\"A.Earth\",\"B.Mars\",\"C.Venus\",\"D.Saturn\"],\n",
    "    [\"A.5\",\"B.6\",\"C.7\",\"D.8\"]\n",
    "]\n",
    "answers=[\"B\",\"B\",\"C\"]\n",
    "prize_money=[1000,5000,10000]\n",
    "\n",
    "score=0\n",
    "total_money=0\n",
    "\n",
    "for i in range(len(questions)):\n",
    "    print(f\"\\nQuestion {i+1}:{questions[i]}\")\n",
    "    for option in options[i]:\n",
    "        print(option)\n",
    "\n",
    "    user_answer=input(\"Your answer (A/B/C/D):\").strip().upper()\n",
    "\n",
    "    if user_answer==answers[i]:\n",
    "        print(\"Correct answer!\")\n",
    "        print(f\"You won Rs.{prize_money[i]}\")\n",
    "        score+=1\n",
    "        total_money+= prize_money[i]\n",
    "    else:\n",
    "        print(\"Wrong Answer:\")\n",
    "        print(\"Game Over!\")\n",
    "        break\n",
    "\n",
    "print(f\"\\nYou answered {score} questions correctly.\")\n",
    "print(f\"Total prize money: Rs.{total_money}\")\n",
    "print(\"Thanks for playing!\")\n"
   ]
  },
  {
   "cell_type": "code",
   "execution_count": null,
   "id": "5e5f082d-0519-4103-b6e1-e26a0cd8d375",
   "metadata": {},
   "outputs": [],
   "source": []
  }
 ],
 "metadata": {
  "kernelspec": {
   "display_name": "Python [conda env:base] *",
   "language": "python",
   "name": "conda-base-py"
  },
  "language_info": {
   "codemirror_mode": {
    "name": "ipython",
    "version": 3
   },
   "file_extension": ".py",
   "mimetype": "text/x-python",
   "name": "python",
   "nbconvert_exporter": "python",
   "pygments_lexer": "ipython3",
   "version": "3.12.7"
  }
 },
 "nbformat": 4,
 "nbformat_minor": 5
}
