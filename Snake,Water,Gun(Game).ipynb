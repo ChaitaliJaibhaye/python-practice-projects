{
 "cells": [
  {
   "cell_type": "code",
   "execution_count": 1,
   "id": "15842260-f937-47ce-afa9-572e8a446f74",
   "metadata": {},
   "outputs": [],
   "source": [
    "import random"
   ]
  },
  {
   "cell_type": "code",
   "execution_count": 7,
   "id": "56832c7e-33b0-4db6-8fa7-9f01ff684bfd",
   "metadata": {},
   "outputs": [
    {
     "name": "stdout",
     "output_type": "stream",
     "text": [
      "Welcome to Snake, Water, Gun Game!\n",
      "Enter your choice: Snake, Water, or Gun\n"
     ]
    },
    {
     "name": "stdin",
     "output_type": "stream",
     "text": [
      "Your Choice: snake\n"
     ]
    },
    {
     "name": "stdout",
     "output_type": "stream",
     "text": [
      "Computer choose:Water\n",
      "You win!\n"
     ]
    }
   ],
   "source": [
    "choices={0:'Snake', 1:'Water', 2:'Gun'}\n",
    "\n",
    "def get_choice_number(choice_name):\n",
    "    for key, value in choices.items():\n",
    "        if choice_name.lower() in value.lower():\n",
    "            return key\n",
    "    return -1\n",
    "\n",
    "print(\"Welcome to Snake, Water, Gun Game!\")\n",
    "print(\"Enter your choice: Snake, Water, or Gun\")\n",
    "\n",
    "user_input=input(\"Your Choice:\").strip().capitalize()\n",
    "user=get_choice_number(user_input)\n",
    "\n",
    "if user==-1:\n",
    "    print(\"Invalid input! Please choose Snake, Water, or Gun.\")\n",
    "else:\n",
    "    computer=random.randint(0,2)\n",
    "    print(f\"Computer choose:{choices[computer]}\")\n",
    "    result=(user-computer)%3\n",
    "    if result==0:\n",
    "        print(\"It's s Tie!\")\n",
    "    elif result==1:\n",
    "        print(\"Computer wins!\")\n",
    "    else:\n",
    "        print(\"You win!\")"
   ]
  },
  {
   "cell_type": "code",
   "execution_count": null,
   "id": "16e85303-8bbe-43ad-8514-4863671f4e34",
   "metadata": {},
   "outputs": [],
   "source": []
  }
 ],
 "metadata": {
  "kernelspec": {
   "display_name": "Python [conda env:base] *",
   "language": "python",
   "name": "conda-base-py"
  },
  "language_info": {
   "codemirror_mode": {
    "name": "ipython",
    "version": 3
   },
   "file_extension": ".py",
   "mimetype": "text/x-python",
   "name": "python",
   "nbconvert_exporter": "python",
   "pygments_lexer": "ipython3",
   "version": "3.12.7"
  }
 },
 "nbformat": 4,
 "nbformat_minor": 5
}
