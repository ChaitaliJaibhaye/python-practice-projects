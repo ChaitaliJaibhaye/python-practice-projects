{
 "cells": [
  {
   "cell_type": "code",
   "execution_count": 3,
   "id": "3628a41b-3c40-4c2a-80cd-6418d06db84c",
   "metadata": {},
   "outputs": [
    {
     "name": "stdout",
     "output_type": "stream",
     "text": [
      "Welcome to Simple Calculator\n",
      "Select operation:\n",
      "1.ADD\n",
      "2.SUB\n",
      "3.MULTIPLY\n",
      "4.DIVIDE\n"
     ]
    },
    {
     "name": "stdin",
     "output_type": "stream",
     "text": [
      "Enter Choice (1/2/3/4):  1\n",
      "Enter 1st no: 45\n",
      "Enter 2nd no: 45\n"
     ]
    },
    {
     "name": "stdout",
     "output_type": "stream",
     "text": [
      "Result: 90.0\n"
     ]
    }
   ],
   "source": [
    "def add(x,y):\n",
    "    return x+y\n",
    "\n",
    "def sub(x,y):\n",
    "    return x-y\n",
    "\n",
    "def multiply(x,y):\n",
    "    return x*y\n",
    "\n",
    "def divide(x,y):\n",
    "    if y==0:\n",
    "        return \"Error: Cannot divide by zero.\"\n",
    "    return x/y\n",
    "\n",
    "def calculator():\n",
    "    print(\"Welcome to Simple Calculator\")\n",
    "    print(\"Select operation:\")\n",
    "    print(\"1.ADD\")\n",
    "    print(\"2.SUB\")\n",
    "    print(\"3.MULTIPLY\")\n",
    "    print(\"4.DIVIDE\") \n",
    "\n",
    "    choice=input(\"Enter Choice (1/2/3/4): \" )\n",
    "\n",
    "    if choice not in ['1','2','3','4']:\n",
    "        print(\"Invalid Input\")\n",
    "        return\n",
    "\n",
    "    try:\n",
    "        num1=float(input(\"Enter 1st no:\"))\n",
    "        num2=float(input(\"Enter 2nd no:\"))\n",
    "    except ValueError:\n",
    "        print(\"Invalid number input.Please enter numeric values.\")\n",
    "        return\n",
    "\n",
    "    if choice=='1':\n",
    "        print(\"Result:\",add(num1,num2))\n",
    "    elif choice=='2':\n",
    "        print(\"Result:\",sub(num1,num2))\n",
    "    elif choice=='3':\n",
    "        print(\"Result:\",multiply(num1,num2))\n",
    "    elif choice=='4':\n",
    "        print(\"Result:\",divide(num1,num2))\n",
    "\n",
    "calculator()"
   ]
  },
  {
   "cell_type": "code",
   "execution_count": null,
   "id": "afd4ffca-bd9f-4438-aec3-4a372578f7af",
   "metadata": {},
   "outputs": [],
   "source": []
  }
 ],
 "metadata": {
  "kernelspec": {
   "display_name": "Python [conda env:base] *",
   "language": "python",
   "name": "conda-base-py"
  },
  "language_info": {
   "codemirror_mode": {
    "name": "ipython",
    "version": 3
   },
   "file_extension": ".py",
   "mimetype": "text/x-python",
   "name": "python",
   "nbconvert_exporter": "python",
   "pygments_lexer": "ipython3",
   "version": "3.12.7"
  }
 },
 "nbformat": 4,
 "nbformat_minor": 5
}
